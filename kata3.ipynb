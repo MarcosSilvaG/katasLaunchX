{
 "cells": [
  {
   "cell_type": "markdown",
   "metadata": {},
   "source": [
    "EXERCISE N°1"
   ]
  },
  {
   "cell_type": "code",
   "execution_count": 7,
   "metadata": {},
   "outputs": [
    {
     "name": "stdout",
     "output_type": "stream",
     "text": [
      "an asteroid is approaching Earth too fast!!!!!\n"
     ]
    }
   ],
   "source": [
    "asteroid = 49\n",
    "\n",
    "if (asteroid > 25):\n",
    "    print(\"an asteroid is approaching Earth too fast!!!!!\")\n",
    "else:\n",
    "    print(\"everything is ok, relax\")\n",
    "\n",
    "#an asteroid is approaching Earth too fast!!!!!"
   ]
  },
  {
   "cell_type": "markdown",
   "metadata": {},
   "source": [
    "EXERCISE N°2"
   ]
  },
  {
   "cell_type": "code",
   "execution_count": 4,
   "metadata": {},
   "outputs": [
    {
     "name": "stdout",
     "output_type": "stream",
     "text": [
      "there is nothing to see\n"
     ]
    }
   ],
   "source": [
    "asteroid = 19\n",
    "\n",
    "if (asteroid > 20):\n",
    "    print(\"look at the sky! it's an asteroid!\")\n",
    "elif (asteroid == 20):\n",
    "    print(\"look at the sky! it's an asteroid!\")\n",
    "else:\n",
    "    print(\"there is nothing to see\")\n",
    "\n",
    "#look at the sky! it's an asteroid!"
   ]
  },
  {
   "cell_type": "code",
   "execution_count": 8,
   "metadata": {},
   "outputs": [
    {
     "name": "stdout",
     "output_type": "stream",
     "text": [
      "there is nothing to see\n"
     ]
    }
   ],
   "source": [
    "asteroid = 19\n",
    "\n",
    "if (asteroid >= 20):\n",
    "    print(\"Look at the sky! it's an asteroid!\")\n",
    "else:\n",
    "    print(\"There is nothing to see\")\n",
    "\n",
    "#look at the sky! it's an asteroid!"
   ]
  },
  {
   "cell_type": "markdown",
   "metadata": {},
   "source": [
    "EXERCISE N°3"
   ]
  },
  {
   "cell_type": "code",
   "execution_count": 13,
   "metadata": {},
   "outputs": [
    {
     "name": "stdout",
     "output_type": "stream",
     "text": [
      "Look at the sky! it's an asteroid!\n"
     ]
    }
   ],
   "source": [
    "asteroid_size = 49\n",
    "asteroid_velocity = 20\n",
    "\n",
    "if (asteroid_size > 25) and (asteroid_velocity > 25):\n",
    "    print(\"Danger! an asteroid is approaching Earth too fast!!!!!\")\n",
    "elif (asteroid_velocity >= 20):\n",
    "    print(\"Look at the sky! it's an asteroid!\")\n",
    "elif (asteroid_size < 25):\n",
    "    print(\"There is nothing to see\")\n",
    "else:\n",
    "    print(\"There is nothing to see\")"
   ]
  }
 ],
 "metadata": {
  "interpreter": {
   "hash": "7a10c39d298db96070d06cc73d684349b6098742efc3513c35204c34dcec9296"
  },
  "kernelspec": {
   "display_name": "Python 3.8.10 64-bit (windows store)",
   "language": "python",
   "name": "python3"
  },
  "language_info": {
   "codemirror_mode": {
    "name": "ipython",
    "version": 3
   },
   "file_extension": ".py",
   "mimetype": "text/x-python",
   "name": "python",
   "nbconvert_exporter": "python",
   "pygments_lexer": "ipython3",
   "version": "3.8.10"
  },
  "orig_nbformat": 4
 },
 "nbformat": 4,
 "nbformat_minor": 2
}
