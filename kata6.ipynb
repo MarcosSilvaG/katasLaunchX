{
 "cells": [
  {
   "cell_type": "markdown",
   "metadata": {},
   "source": [
    "EXERCISE 1\n"
   ]
  },
  {
   "cell_type": "code",
   "execution_count": 36,
   "metadata": {},
   "outputs": [
    {
     "name": "stdout",
     "output_type": "stream",
     "text": [
      "['Mercury', 'Venus', 'Earth', 'Mars', 'Jupiter', 'Saturn', 'Uranus', 'Neptune']\n"
     ]
    }
   ],
   "source": [
    "# We create the planets list and display it.\n",
    "planets = ['Mercury', 'Venus', 'Earth', 'Mars', 'Jupiter', 'Saturn', 'Uranus', 'Neptune']\n",
    "print(planets)"
   ]
  },
  {
   "cell_type": "code",
   "execution_count": 37,
   "metadata": {},
   "outputs": [
    {
     "name": "stdout",
     "output_type": "stream",
     "text": [
      "The number of planets is: 9 and the planet farthest from the sun is pluto\n"
     ]
    }
   ],
   "source": [
    "# We add pluto and show the last element\n",
    "planets.append('pluto')\n",
    "number_of_planets = len(planets)\n",
    "print(\"The number of planets is:\",number_of_planets,\"and the planet farthest from the sun is\",planets[-1])"
   ]
  },
  {
   "cell_type": "markdown",
   "metadata": {},
   "source": [
    "EXERCISE 2"
   ]
  },
  {
   "cell_type": "code",
   "execution_count": 38,
   "metadata": {},
   "outputs": [],
   "source": [
    "# We create the planets list and display it.\n",
    "planets = ['Mercury', 'Venus', 'Earth', 'Mars', 'Jupiter', 'Saturn', 'Uranus', 'Neptune']"
   ]
  },
  {
   "cell_type": "code",
   "execution_count": 39,
   "metadata": {},
   "outputs": [],
   "source": [
    "# We request the name of a planet\n",
    "while True:\n",
    "    name_of_planet = input(\"Enter the name of a planet: \").capitalize()\n",
    "    index_of_planet = planets.index(name_of_planet) if name_of_planet in planets else -1\n",
    "    if index_of_planet != -1:\n",
    "        break"
   ]
  },
  {
   "cell_type": "code",
   "execution_count": 40,
   "metadata": {},
   "outputs": [],
   "source": [
    "# Search for the planet in the list\n",
    "#index_of_planet = planets.index(name_of_planet)\n"
   ]
  },
  {
   "cell_type": "code",
   "execution_count": 45,
   "metadata": {},
   "outputs": [
    {
     "name": "stdout",
     "output_type": "stream",
     "text": [
      "These planets are closer to the sun than Earth: \n",
      "Mercury, Venus\n"
     ]
    }
   ],
   "source": [
    "# Shows the planets closest to the sun\n",
    "print(\"These planets are closer to the sun than \"+name_of_planet+\": \")\n",
    "print(', '.join(planets[0:index_of_planet]))"
   ]
  },
  {
   "cell_type": "code",
   "execution_count": 50,
   "metadata": {},
   "outputs": [
    {
     "name": "stdout",
     "output_type": "stream",
     "text": [
      "These planets are farther away from the sun than Earth: \n",
      "Mars,Jupiter,Saturn,Uranus,Neptune\n"
     ]
    }
   ],
   "source": [
    "# Shows the planets farthest from the sun\n",
    "print(\"These planets are farther away from the sun than \"+name_of_planet+\": \")\n",
    "print(','.join(planets[index_of_planet+1:]))"
   ]
  }
 ],
 "metadata": {
  "interpreter": {
   "hash": "dabad593273a8fc1e308fee3d5acfa204906032f33978af8a9cd8997478769cb"
  },
  "kernelspec": {
   "display_name": "Python 3.8.10 ('env': venv)",
   "language": "python",
   "name": "python3"
  },
  "language_info": {
   "codemirror_mode": {
    "name": "ipython",
    "version": 3
   },
   "file_extension": ".py",
   "mimetype": "text/x-python",
   "name": "python",
   "nbconvert_exporter": "python",
   "pygments_lexer": "ipython3",
   "version": "3.9.6"
  },
  "orig_nbformat": 4
 },
 "nbformat": 4,
 "nbformat_minor": 2
}
