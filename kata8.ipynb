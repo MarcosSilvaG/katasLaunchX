{
 "cells": [
  {
   "cell_type": "markdown",
   "metadata": {},
   "source": [
    "EXERCISE 1"
   ]
  },
  {
   "cell_type": "code",
   "execution_count": 1,
   "metadata": {},
   "outputs": [],
   "source": [
    "# Create a dictionary called planet with the proposed data.\n",
    "planet ={\n",
    "    'name':'Mars',\n",
    "    'moons': 1\n",
    "}"
   ]
  },
  {
   "cell_type": "code",
   "execution_count": 4,
   "metadata": {},
   "outputs": [
    {
     "name": "stdout",
     "output_type": "stream",
     "text": [
      "Mars has 1 moons\n"
     ]
    }
   ],
   "source": [
    "# Shows the name of the planet and the number of moons it has.\n",
    "print(f\"{planet['name']} has {planet['moons']} moons\")"
   ]
  },
  {
   "cell_type": "code",
   "execution_count": 5,
   "metadata": {},
   "outputs": [],
   "source": [
    "# Add the circumference key with the data previously provided.  \n",
    "planet['circumference'] = {'polar':6752,'equatorial':6792}"
   ]
  },
  {
   "cell_type": "code",
   "execution_count": 8,
   "metadata": {},
   "outputs": [
    {
     "name": "stdout",
     "output_type": "stream",
     "text": [
      "The planet Mars has a 6752 circumference of \n"
     ]
    }
   ],
   "source": [
    "# Print the name of the planet with its polar circumference.\n",
    "print(f\"The planet {planet['name']} has a polar circumference of {planet['circumference']['polar']}\")"
   ]
  },
  {
   "cell_type": "markdown",
   "metadata": {},
   "source": [
    "EXERCISE 2"
   ]
  },
  {
   "cell_type": "code",
   "execution_count": 1,
   "metadata": {},
   "outputs": [],
   "source": [
    "# Planets and moons\n",
    "planet_moons = {\n",
    "    'mercury': 0,\n",
    "    'venus': 0,\n",
    "    'earth': 1,\n",
    "    'mars': 2,\n",
    "    'jupiter': 79,\n",
    "    'saturn': 82,\n",
    "    'uranus': 27,\n",
    "    'neptune': 14,\n",
    "    'pluto': 5,\n",
    "    'haumea': 2,\n",
    "    'makemake': 1,\n",
    "    'eris': 1\n",
    "}"
   ]
  },
  {
   "cell_type": "code",
   "execution_count": 14,
   "metadata": {},
   "outputs": [
    {
     "name": "stdout",
     "output_type": "stream",
     "text": [
      "The total number of moons is: 214\n"
     ]
    }
   ],
   "source": [
    "# Add the code to determine the number of moons.\n",
    "total_moons=0\n",
    "for moons in planet_moons.values():\n",
    "    total_moons += moons\n",
    "print(f\"The total number of moons is: {total_moons}\")\n",
    "#obetenemos el numero total de planetas\n",
    "total_planets = len(planet_moons.keys())"
   ]
  },
  {
   "cell_type": "code",
   "execution_count": 15,
   "metadata": {},
   "outputs": [
    {
     "name": "stdout",
     "output_type": "stream",
     "text": [
      "Total average number of moons: 17.833333333333332\n"
     ]
    }
   ],
   "source": [
    "# Add the code to count the number of moons. \n",
    "average= total_moons / total_planets\n",
    "print(f\"Total average number of moons: {average}\")"
   ]
  }
 ],
 "metadata": {
  "interpreter": {
   "hash": "dabad593273a8fc1e308fee3d5acfa204906032f33978af8a9cd8997478769cb"
  },
  "kernelspec": {
   "display_name": "Python 3.8.10 ('env': venv)",
   "language": "python",
   "name": "python3"
  },
  "language_info": {
   "codemirror_mode": {
    "name": "ipython",
    "version": 3
   },
   "file_extension": ".py",
   "mimetype": "text/x-python",
   "name": "python",
   "nbconvert_exporter": "python",
   "pygments_lexer": "ipython3",
   "version": "3.8.10"
  },
  "orig_nbformat": 4
 },
 "nbformat": 4,
 "nbformat_minor": 2
}
