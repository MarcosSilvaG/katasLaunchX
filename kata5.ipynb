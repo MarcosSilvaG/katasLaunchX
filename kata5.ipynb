{
 "cells": [
  {
   "cell_type": "markdown",
   "metadata": {},
   "source": [
    "EXERCISE 1"
   ]
  },
  {
   "cell_type": "code",
   "execution_count": 1,
   "metadata": {},
   "outputs": [],
   "source": [
    "# Create variables to store the two distances\n",
    "earth = 149597870\n",
    "jupiter = 778547200"
   ]
  },
  {
   "cell_type": "code",
   "execution_count": 24,
   "metadata": {},
   "outputs": [
    {
     "name": "stdout",
     "output_type": "stream",
     "text": [
      "628949330 km\n",
      "383246501 mi\n"
     ]
    }
   ],
   "source": [
    "# Calculate the distance between planets\n",
    "distance_km = (jupiter-earth)\n",
    "distance_mi = distance_km*0.609344\n",
    "\n",
    "print(distance_km,\"km\")\n",
    "print(round(distance_mi),\"mi\")"
   ]
  },
  {
   "cell_type": "markdown",
   "metadata": {},
   "source": [
    "EXERCISE 2\n"
   ]
  },
  {
   "cell_type": "code",
   "execution_count": 21,
   "metadata": {},
   "outputs": [],
   "source": [
    "# Store user entries\n",
    "first_planet = input(\"Enter the distance from the first planet: \")\n",
    "second_planet = input(\"Enter the distance from the second planet: \")"
   ]
  },
  {
   "cell_type": "code",
   "execution_count": 22,
   "metadata": {},
   "outputs": [],
   "source": [
    "# Converts the strings of both planets to integers\n",
    "first_int = int(first_planet)\n",
    "second_int = int(second_planet)"
   ]
  },
  {
   "cell_type": "code",
   "execution_count": 23,
   "metadata": {},
   "outputs": [
    {
     "name": "stdout",
     "output_type": "stream",
     "text": [
      "628949330 km\n",
      "383246500.53952 mi\n"
     ]
    }
   ],
   "source": [
    "# Perform the calculation and determine the absolute value\n",
    "distance_km = (first_int - second_int)\n",
    "\n",
    "# Convert from KM to Miles\n",
    "distance_mi = distance_km*0.609344\n",
    "\n",
    "print(abs(distance_km),\"km\")\n",
    "print(abs(round(distance_mi)),\"mi\")"
   ]
  }
 ],
 "metadata": {
  "interpreter": {
   "hash": "7a10c39d298db96070d06cc73d684349b6098742efc3513c35204c34dcec9296"
  },
  "kernelspec": {
   "display_name": "Python 3.8.10 64-bit (windows store)",
   "language": "python",
   "name": "python3"
  },
  "language_info": {
   "codemirror_mode": {
    "name": "ipython",
    "version": 3
   },
   "file_extension": ".py",
   "mimetype": "text/x-python",
   "name": "python",
   "nbconvert_exporter": "python",
   "pygments_lexer": "ipython3",
   "version": "3.8.10"
  },
  "orig_nbformat": 4
 },
 "nbformat": 4,
 "nbformat_minor": 2
}
