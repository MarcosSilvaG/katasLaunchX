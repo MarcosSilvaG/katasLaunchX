{
 "cells": [
  {
   "cell_type": "markdown",
   "metadata": {},
   "source": [
    "EXERCISE 1"
   ]
  },
  {
   "cell_type": "code",
   "execution_count": 18,
   "metadata": {},
   "outputs": [],
   "source": [
    "# Function to read 3 fuel tanks and display average\n",
    "def fuel_report(first_tank,second_tank,third_tank):\n",
    "    total_fuel = first_tank+second_tank+third_tank\n",
    "    return f\"\"\"Average fuel: {total_fuel/3}\n",
    "=======================================================\n",
    "            Fisrt tank: {first_tank}\n",
    "            Second tank: {second_tank}\n",
    "            Third tank: {third_tank}\"\"\""
   ]
  },
  {
   "cell_type": "code",
   "execution_count": 20,
   "metadata": {},
   "outputs": [
    {
     "name": "stdout",
     "output_type": "stream",
     "text": [
      "Average fuel: 78.33333333333333\n",
      "=======================================================\n",
      "            Fisrt tank: 80\n",
      "            Second tank: 70\n",
      "            Third tank: 85\n"
     ]
    }
   ],
   "source": [
    "# We call the function that generates the report print(function(tank1, tank2, tank3))\n",
    "print(fuel_report(80, 70, 85))"
   ]
  },
  {
   "cell_type": "code",
   "execution_count": 26,
   "metadata": {},
   "outputs": [
    {
     "name": "stdout",
     "output_type": "stream",
     "text": [
      "78.33333333333333\n"
     ]
    }
   ],
   "source": [
    "# Función promedio \n",
    "def average(values):\n",
    "    total=sum(values)\n",
    "    number_of_items=len(values)\n",
    "    return (total/number_of_items)\n",
    "\n",
    "print(average([80, 70, 85]))"
   ]
  },
  {
   "cell_type": "code",
   "execution_count": 28,
   "metadata": {},
   "outputs": [
    {
     "name": "stdout",
     "output_type": "stream",
     "text": [
      "Fuel report\n",
      "=======================================================\n",
      "            Total average: 78.33333333333333%\n",
      "            Fisrt tank: 80%\n",
      "            Second tank: 70%\n",
      "            Third tank: 85%\n"
     ]
    }
   ],
   "source": [
    "# Update the function\n",
    "def fuel_report(first_tank, second_tank,third_tank):\n",
    "    return f\"\"\"Fuel report\n",
    "=======================================================\n",
    "            Total average: {average([first_tank,second_tank,third_tank])}%\n",
    "            Fisrt tank: {first_tank}%\n",
    "            Second tank: {second_tank}%\n",
    "            Third tank: {third_tank}%\"\"\"\n",
    "\n",
    "print(fuel_report(80,70,85))"
   ]
  },
  {
   "cell_type": "markdown",
   "metadata": {},
   "source": [
    "EXERCISE 2"
   ]
  },
  {
   "cell_type": "code",
   "execution_count": 29,
   "metadata": {},
   "outputs": [
    {
     "name": "stdout",
     "output_type": "stream",
     "text": [
      "MISSION REPORT\n",
      "    =======================================\n",
      "            MISSION TO: Mars\n",
      "            TOTAL TRAVEL TIME: 30\n",
      "            TOTAL FUEL: 900\n",
      "    \n"
     ]
    }
   ],
   "source": [
    "# Function with an accurate mission report. \n",
    "# Considers pre-launch time, flight time, destination, external tank and internal tank.\n",
    "def mission_report(pre_launch_time,flight_time,destination,external_tank,internal_tank):\n",
    "    return f\"\"\"MISSION REPORT\n",
    "    =======================================\n",
    "            MISSION TO: {destination}\n",
    "            TOTAL TRAVEL TIME: {pre_launch_time + flight_time}\n",
    "            TOTAL FUEL: {external_tank+internal_tank}\n",
    "    \"\"\"\n",
    "print(mission_report(10,20,'Mars',500,4003))"
   ]
  },
  {
   "cell_type": "code",
   "execution_count": 32,
   "metadata": {},
   "outputs": [
    {
     "name": "stdout",
     "output_type": "stream",
     "text": [
      "MISSION REPORT\n",
      "    =======================================\n",
      "            MISSION TO: Mars\n",
      "            TOTAL TRAVEL TIME: 30\n",
      "            TOTAL FUEL: 1000\n",
      "    \n"
     ]
    }
   ],
   "source": [
    "def mission_report(destination, *time, **fuel_tanks):\n",
    "     return f\"\"\"MISSION REPORT\n",
    "    =======================================\n",
    "            MISSION TO: {destination}\n",
    "            TOTAL TRAVEL TIME: {sum(time)}\n",
    "            TOTAL FUEL: {sum(fuel_tanks.values())}\n",
    "    \"\"\"\n",
    "print(mission_report('Mars',10,20,external=500,internal=500))"
   ]
  },
  {
   "cell_type": "code",
   "execution_count": 42,
   "metadata": {},
   "outputs": [
    {
     "name": "stdout",
     "output_type": "stream",
     "text": [
      "MISSION REPORT\n",
      "    =======================================\n",
      "            MISSION TO: Mars\n",
      "            TOTAL TRAVEL TIME: 30\n",
      "            TOTAL FUEL: 900\n",
      "           The external tank has 500L remaining\n",
      "       The internal tank has 400L remaining\n",
      "\n"
     ]
    }
   ],
   "source": [
    "def mission_report(destination, *time, **fuel_tanks):\n",
    "    main_report = f\"\"\"MISSION REPORT\n",
    "    =======================================\n",
    "            MISSION TO: {destination}\n",
    "            TOTAL TRAVEL TIME: {sum(time)}\n",
    "            TOTAL FUEL: {sum(fuel_tanks.values())}\n",
    "    \"\"\"\n",
    "    for tank,capacity in fuel_tanks.items():\n",
    "        main_report += f\"       The {tank} tank has {capacity}L remaining\\n\" \n",
    "    return main_report\n",
    "print(mission_report('Mars',10,20,external=500,internal=400))"
   ]
  }
 ],
 "metadata": {
  "interpreter": {
   "hash": "dabad593273a8fc1e308fee3d5acfa204906032f33978af8a9cd8997478769cb"
  },
  "kernelspec": {
   "display_name": "Python 3.8.10 ('env': venv)",
   "language": "python",
   "name": "python3"
  },
  "language_info": {
   "codemirror_mode": {
    "name": "ipython",
    "version": 3
   },
   "file_extension": ".py",
   "mimetype": "text/x-python",
   "name": "python",
   "nbconvert_exporter": "python",
   "pygments_lexer": "ipython3",
   "version": "3.8.10"
  },
  "orig_nbformat": 4
 },
 "nbformat": 4,
 "nbformat_minor": 2
}
